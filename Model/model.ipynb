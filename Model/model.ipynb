import pandas as pd
import numpy as np
import matplotlib.pyplot as plt
from sklearn import linear_model

df=pd.read_csv('homeprices.csv')
df

%matplotlib inline
plt.xlabel('area(sqr ft)')
plt.ylabel('price(US$)')
plt.scatter(df.area,df.price,color="red",marker='+')

reg=linear_model.LinearRegression()
reg.fit(df[['area']],df.price)

reg.predict([[3300]])

reg.coef_

reg.intercept_

135.78767123*3300+180616.43835616432

reg.predict([[5000]])

import pickle

with open('modelpickle','wb') as f:
    pickle.dump(reg,f)

with open('modelpickle','rb') as f:
    mp=pickle.load(f)

mp.predict([[5000]])

import joblib

joblib.dump(reg,'modeljoblib')

mj=joblib.load('modeljoblib')
mj.predict([[5000]])

mj.coef_

mj.intercept_

